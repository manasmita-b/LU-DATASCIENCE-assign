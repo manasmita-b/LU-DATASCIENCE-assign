{
 "cells": [
  {
   "cell_type": "markdown",
   "metadata": {},
   "source": [
    "# QUESTION 1"
   ]
  },
  {
   "cell_type": "code",
   "execution_count": 1,
   "metadata": {},
   "outputs": [
    {
     "name": "stdout",
     "output_type": "stream",
     "text": [
      "25\n",
      "26\n",
      "14\n",
      "23\n",
      "20\n",
      "97\n",
      "86\n",
      "85\n",
      "40\n",
      "61\n",
      "[26, 14, 20, 86, 40]\n"
     ]
    }
   ],
   "source": [
    "l = [] \n",
    "for i in range(10):\n",
    "    x = int(input())\n",
    "    if x%2==0:\n",
    "        l.append(x)\n",
    "print(l)"
   ]
  },
  {
   "cell_type": "markdown",
   "metadata": {},
   "source": [
    "# QUESTION 2"
   ]
  },
  {
   "cell_type": "markdown",
   "metadata": {},
   "source": [
    "# List comprehensions are used for creating new lists from other iterables. As list comprehensions return lists, they consist of brackets containing the expression, which is executed for each element along with the for loop to iterate over each element."
   ]
  },
  {
   "cell_type": "code",
   "execution_count": 2,
   "metadata": {},
   "outputs": [
    {
     "name": "stdout",
     "output_type": "stream",
     "text": [
      "['h', 'u', 'm', 'a', 'n']\n",
      "[0, 1, 4, 9, 16, 25, 36, 49, 64, 81]\n"
     ]
    }
   ],
   "source": [
    "#for example \n",
    "h_letters = [ letter for letter in 'human' ]\n",
    "print( h_letters) \n",
    "\n",
    "#for squaring the number\n",
    "squares = []\n",
    "for i in range(10):\n",
    "     squares.append(i * i)\n",
    "print(squares)"
   ]
  },
  {
   "cell_type": "markdown",
   "metadata": {},
   "source": [
    "# QUESTION 3"
   ]
  },
  {
   "cell_type": "code",
   "execution_count": 3,
   "metadata": {},
   "outputs": [
    {
     "name": "stdout",
     "output_type": "stream",
     "text": [
      "7\n",
      "{1: 1, 2: 4, 3: 9, 4: 16, 5: 25, 6: 36, 7: 49}\n"
     ]
    }
   ],
   "source": [
    "dict={}\n",
    "n = int(input())\n",
    "for i in range(1,n+1):\n",
    "  dict[i] = i*i\n",
    "print(dict)"
   ]
  },
  {
   "cell_type": "markdown",
   "metadata": {},
   "source": [
    "# QUESTION 4"
   ]
  },
  {
   "cell_type": "code",
   "execution_count": 4,
   "metadata": {},
   "outputs": [
    {
     "name": "stdout",
     "output_type": "stream",
     "text": [
      "4\n",
      "UP 10\n",
      "RIGHT 20\n",
      "DOWN 4\n",
      "LEFT 10\n",
      "12\n"
     ]
    }
   ],
   "source": [
    "x=0\n",
    "y=0\n",
    "n = int(input())\n",
    "\n",
    "for i in range(n):\n",
    "    direction = input().split(' ')  \n",
    "    \n",
    "    if direction[0].upper() == \"UP\":\n",
    "        y += int(direction[1])\n",
    "    elif direction[0].upper() == \"RIGHT\":\n",
    "        x += int(direction[1])\n",
    "    elif direction[0].upper() == \"DOWN\":\n",
    "        y -= int(direction[1])\n",
    "    elif direction[0].upper() == \"LEFT\":\n",
    "        x -= int(direction[1])\n",
    "    else:\n",
    "        print(\"Invalid Input\")    \n",
    "pos = float((x**2+y**2)**0.5)\n",
    "print(round(pos))\n"
   ]
  },
  {
   "cell_type": "code",
   "execution_count": null,
   "metadata": {},
   "outputs": [],
   "source": []
  }
 ],
 "metadata": {
  "kernelspec": {
   "display_name": "Python 3",
   "language": "python",
   "name": "python3"
  },
  "language_info": {
   "codemirror_mode": {
    "name": "ipython",
    "version": 3
   },
   "file_extension": ".py",
   "mimetype": "text/x-python",
   "name": "python",
   "nbconvert_exporter": "python",
   "pygments_lexer": "ipython3",
   "version": "3.8.3"
  }
 },
 "nbformat": 4,
 "nbformat_minor": 4
}
