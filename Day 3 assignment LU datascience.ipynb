{
 "cells": [
  {
   "cell_type": "markdown",
   "metadata": {},
   "source": [
    "# QUESTION 1"
   ]
  },
  {
   "cell_type": "code",
   "execution_count": 2,
   "metadata": {},
   "outputs": [
    {
     "data": {
      "text/plain": [
       "array([ 2,  5,  8, 11, 14, 17, 20, 23, 26, 29, 32, 35, 38, 41, 44, 47, 50])"
      ]
     },
     "execution_count": 2,
     "metadata": {},
     "output_type": "execute_result"
    }
   ],
   "source": [
    "import numpy as np\n",
    "array = np.arange(2,51,3)\n",
    "array"
   ]
  },
  {
   "cell_type": "markdown",
   "metadata": {},
   "source": [
    "# QUESTION 2 "
   ]
  },
  {
   "cell_type": "code",
   "execution_count": 4,
   "metadata": {},
   "outputs": [
    {
     "name": "stdout",
     "output_type": "stream",
     "text": [
      "enter number for list1 :56\n",
      "enter number for list1 :78\n",
      "enter number for list1 :49\n",
      "enter number for list1 :50\n",
      "enter number for list1 :30\n",
      "enter number for list2 :21\n",
      "enter number for list2 :5\n",
      "enter number for list2 :61\n",
      "enter number for list2 :39\n",
      "enter number for list2 :40\n",
      "\n",
      "Array value for concatenated arr : [56 78 49 50 30 21  5 61 39 40]\n",
      "\n",
      "Sorted Array for concatenated arr : [ 5 21 30 39 40 49 50 56 61 78]\n"
     ]
    }
   ],
   "source": [
    "import numpy as np \n",
    "l1 = []\n",
    "l2 = []\n",
    "for i in range(5):\n",
    "    x=int(input(\"enter number for list1 :\"))\n",
    "    l1.append(x)\n",
    "for i in range(5):\n",
    "    x=int(input(\"enter number for list2 :\"))\n",
    "    l2.append(x)\n",
    "a1=np.array(l1)\n",
    "a2=np.array(l2) \n",
    "arr = np.concatenate((a1, a2))\n",
    "print(\"\\nArray value for concatenated arr :\",arr) \n",
    "sortArr = np.sort(arr)\n",
    "print(\"\\nSorted Array for concatenated arr :\",sortArr)\n"
   ]
  },
  {
   "cell_type": "markdown",
   "metadata": {},
   "source": [
    "# QUESTION 3"
   ]
  },
  {
   "cell_type": "code",
   "execution_count": 6,
   "metadata": {},
   "outputs": [
    {
     "name": "stdout",
     "output_type": "stream",
     "text": [
      "shape (3, 3) size 9\n"
     ]
    }
   ],
   "source": [
    "arr = np.array([ [1,2,3] , [4,5,6] , [7,8,9] ])\n",
    "\n",
    "print(\"shape\",arr.shape,\"size\",arr.size)"
   ]
  },
  {
   "cell_type": "markdown",
   "metadata": {},
   "source": [
    "# QUESTION 4"
   ]
  },
  {
   "cell_type": "code",
   "execution_count": 12,
   "metadata": {},
   "outputs": [
    {
     "name": "stdout",
     "output_type": "stream",
     "text": [
      "[[1 2 3 4 5 6 7 8 9]] (1, 9)\n",
      "\n",
      "[[1 2 3]\n",
      " [4 5 6]\n",
      " [7 8 9]] (3, 3)\n"
     ]
    }
   ],
   "source": [
    "arr = np.array([[1,2,3,4,5,6,7,8,9]])\n",
    "\n",
    "print(arr,arr.shape) \n",
    "\n",
    "print()\n",
    "\n",
    "arr = arr.reshape(3,3) \n",
    "\n",
    "print(arr,arr.shape)\n"
   ]
  },
  {
   "cell_type": "markdown",
   "metadata": {},
   "source": [
    "# QUESTION 5"
   ]
  },
  {
   "cell_type": "code",
   "execution_count": 13,
   "metadata": {},
   "outputs": [
    {
     "name": "stdout",
     "output_type": "stream",
     "text": [
      "[[0.71339754 0.99845188 0.59958055]\n",
      " [0.62703907 0.59097101 0.21300945]\n",
      " [0.94377728 0.55782607 0.26859856]\n",
      " [0.4236063  0.16370416 0.47947741]\n",
      " [0.33723318 0.96658236 0.89241145]\n",
      " [0.54444851 0.72961526 0.0755142 ]]\n",
      "\n",
      "[[0.71339754 0.99845188 0.59958055 0.4236063  0.16370416 0.47947741]\n",
      " [0.62703907 0.59097101 0.21300945 0.33723318 0.96658236 0.89241145]\n",
      " [0.94377728 0.55782607 0.26859856 0.54444851 0.72961526 0.0755142 ]]\n"
     ]
    }
   ],
   "source": [
    "arr1=np.random.rand(3,3)\n",
    "arr2=np.random.rand(3,3)\n",
    "print(np.vstack((arr1,arr2)))\n",
    "print() \n",
    "print(np.hstack((arr1,arr2))) "
   ]
  },
  {
   "cell_type": "markdown",
   "metadata": {},
   "source": [
    "# QUESTION 6"
   ]
  },
  {
   "cell_type": "code",
   "execution_count": 16,
   "metadata": {},
   "outputs": [
    {
     "name": "stdout",
     "output_type": "stream",
     "text": [
      "(array([ 1,  2,  3,  5,  6,  7,  8, 11, 25]), array([1, 2, 1, 3, 2, 2, 2, 2, 1], dtype=int64))\n"
     ]
    }
   ],
   "source": [
    "arr_1 = np.array([5,6,5, 1, 2, 11,8, 25, 3, 2, 7, 6, 5, 7, 8, 11])\n",
    "print(np.unique(arr_1,return_counts=True))"
   ]
  }
 ],
 "metadata": {
  "kernelspec": {
   "display_name": "Python 3",
   "language": "python",
   "name": "python3"
  },
  "language_info": {
   "codemirror_mode": {
    "name": "ipython",
    "version": 3
   },
   "file_extension": ".py",
   "mimetype": "text/x-python",
   "name": "python",
   "nbconvert_exporter": "python",
   "pygments_lexer": "ipython3",
   "version": "3.8.3"
  }
 },
 "nbformat": 4,
 "nbformat_minor": 4
}
